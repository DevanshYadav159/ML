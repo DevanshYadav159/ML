{
  "nbformat": 4,
  "nbformat_minor": 0,
  "metadata": {
    "colab": {
      "provenance": [],
      "authorship_tag": "ABX9TyO748PQz+pLqLEu9MNQ9m9d",
      "include_colab_link": true
    },
    "kernelspec": {
      "name": "python3",
      "display_name": "Python 3"
    },
    "language_info": {
      "name": "python"
    }
  },
  "cells": [
    {
      "cell_type": "markdown",
      "metadata": {
        "id": "view-in-github",
        "colab_type": "text"
      },
      "source": [
        "<a href=\"https://colab.research.google.com/github/DevanshYadav159/ML/blob/main/Untitled0.ipynb\" target=\"_parent\"><img src=\"https://colab.research.google.com/assets/colab-badge.svg\" alt=\"Open In Colab\"/></a>"
      ]
    },
    {
      "cell_type": "code",
      "source": [
        "import pandas as pd\n",
        "import numpy as np\n",
        "from sklearn.linear_model import LinearRegression\n",
        "from sklearn.model_selection import train_test_split\n",
        "from sklearn.metrics import mean_squared_error\n",
        "from google.colab import drive\n",
        "\n",
        "# Mount Google Drive\n",
        "drive.mount('/content/drive')\n",
        "\n",
        "# Load datasets from Google Drive (adjust file paths based on the actual location)\n",
        "train_df = pd.read_csv('/content/drive/MyDrive/ML/train.csv')  # Adjust path if necessary\n",
        "test_df = pd.read_csv('/content/drive/MyDrive/ML/test.csv')     # Adjust path if necessary\n",
        "\n",
        "# Check columns to ensure correct ones are used\n",
        "print(\"Train DataFrame Columns:\", train_df.columns)\n",
        "print(\"Test DataFrame Columns:\", test_df.columns)\n",
        "\n",
        "# Drop 'ID' column from both train_df and test_df\n",
        "train_df = train_df.drop(columns=['ID'])\n",
        "test_df = test_df.drop(columns=['ID'])\n",
        "\n",
        "# Drop 'Unnamed: 0' if it exists in train_df (it might be an index column)\n",
        "if 'Unnamed: 0' in train_df.columns:\n",
        "    train_df = train_df.drop(columns=['Unnamed: 0'])\n",
        "\n",
        "# Prepare the data for training\n",
        "X_train = train_df.drop(columns=['medv'])\n",
        "y_train = train_df['medv']\n",
        "\n",
        "# Split training data for validation\n",
        "X_train_split, X_val_split, y_train_split, y_val_split = train_test_split(X_train, y_train, test_size=0.2, random_state=42)\n",
        "\n",
        "# Train Linear Regression model\n",
        "model = LinearRegression()\n",
        "model.fit(X_train_split, y_train_split)\n",
        "\n",
        "# Validate the model\n",
        "y_val_pred = model.predict(X_val_split)\n",
        "mse = mean_squared_error(y_val_split, y_val_pred)\n",
        "print(f\"Mean Squared Error: {mse}\")\n",
        "\n",
        "# Make predictions on the test set\n",
        "test_predictions = model.predict(test_df)\n",
        "\n",
        "# Save the predictions to Google Drive\n",
        "test_df['predictions'] = test_predictions\n",
        "test_df.to_csv('/content/drive/MyDrive/ML/test_predictions.csv', index=False)  # Adjust path accordingly"
      ],
      "metadata": {
        "colab": {
          "base_uri": "https://localhost:8080/"
        },
        "id": "Z_k054QPpD6O",
        "outputId": "a8a4e93b-1118-4672-a157-d1197ef60396"
      },
      "execution_count": 5,
      "outputs": [
        {
          "output_type": "stream",
          "name": "stdout",
          "text": [
            "Drive already mounted at /content/drive; to attempt to forcibly remount, call drive.mount(\"/content/drive\", force_remount=True).\n",
            "Train DataFrame Columns: Index(['ID', 'crim', 'zn', 'indus', 'chas', 'nox', 'rm', 'age', 'dis', 'rad',\n",
            "       'tax', 'ptratio', 'black', 'lstat', 'medv'],\n",
            "      dtype='object')\n",
            "Test DataFrame Columns: Index(['ID', 'crim', 'zn', 'indus', 'chas', 'nox', 'rm', 'age', 'dis', 'rad',\n",
            "       'tax', 'ptratio', 'black', 'lstat'],\n",
            "      dtype='object')\n",
            "Mean Squared Error: 23.486735195426004\n"
          ]
        }
      ]
    }
  ]
}